{
 "cells": [
  {
   "cell_type": "code",
   "execution_count": 1,
   "id": "f6c82ea8",
   "metadata": {},
   "outputs": [
    {
     "name": "stdout",
     "output_type": "stream",
     "text": [
      "Requirement already satisfied: pika in c:\\users\\milcho\\anaconda3\\lib\\site-packages (1.3.2)\n"
     ]
    }
   ],
   "source": [
    "!pip install pika"
   ]
  },
  {
   "cell_type": "code",
   "execution_count": 2,
   "id": "9d640dd4",
   "metadata": {},
   "outputs": [],
   "source": [
    "import pika, sys, os, json"
   ]
  },
  {
   "cell_type": "code",
   "execution_count": 3,
   "id": "44308d24",
   "metadata": {},
   "outputs": [],
   "source": [
    "def main():\n",
    "    connection = pika.BlockingConnection(pika.ConnectionParameters(host='localhost'))\n",
    "    channel = connection.channel()\n",
    "\n",
    "    channel.queue_declare(queue='DocuAurora-queue')\n",
    "\n",
    "    def callback(ch, method, properties, body):\n",
    "        data = json.loads(body.decode())\n",
    "        command_name = data['CommandName']\n",
    "        input_question = data['Payload']['InputQuestion']\n",
    "        print(f'Hello Admin we receive your message => {data} commandName=> {command_name} input_question=> {input_question}')\n",
    "\n",
    "    channel.basic_consume(queue='DocuAurora-queue', on_message_callback=callback, auto_ack=True)\n",
    "\n",
    "    print(' [*] Waiting for messages. To exit press CTRL+C')\n",
    "    channel.start_consuming()\n"
   ]
  },
  {
   "cell_type": "code",
   "execution_count": null,
   "id": "9a47de6b",
   "metadata": {},
   "outputs": [
    {
     "name": "stdout",
     "output_type": "stream",
     "text": [
      " [*] Waiting for messages. To exit press CTRL+C\n",
      "Hello Admin we receive your message => {\"CommandName\":\"api/POST\",\"Payload\":{\"InputQuestion\":\"Kakk e ve ???????\"}} commandNameapi/POST input_questionKakk e ve ???????\n"
     ]
    }
   ],
   "source": [
    "if __name__ == '__main__':\n",
    "    try:\n",
    "        main()\n",
    "    except KeyboardInterrupt:\n",
    "        print('Interrupted')\n",
    "        try:\n",
    "            sys.exit(0)\n",
    "        except SystemExit:\n",
    "            os._exit(0)"
   ]
  },
  {
   "cell_type": "code",
   "execution_count": null,
   "id": "2256734f",
   "metadata": {},
   "outputs": [],
   "source": []
  }
 ],
 "metadata": {
  "kernelspec": {
   "display_name": "Python 3 (ipykernel)",
   "language": "python",
   "name": "python3"
  },
  "language_info": {
   "codemirror_mode": {
    "name": "ipython",
    "version": 3
   },
   "file_extension": ".py",
   "mimetype": "text/x-python",
   "name": "python",
   "nbconvert_exporter": "python",
   "pygments_lexer": "ipython3",
   "version": "3.10.9"
  }
 },
 "nbformat": 4,
 "nbformat_minor": 5
}
