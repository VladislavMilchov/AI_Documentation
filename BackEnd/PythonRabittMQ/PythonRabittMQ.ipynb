{
 "cells": [
  {
   "cell_type": "code",
   "execution_count": 1,
   "id": "f6c82ea8",
   "metadata": {},
   "outputs": [
    {
     "name": "stdout",
     "output_type": "stream",
     "text": [
      "Requirement already satisfied: pika in ./anaconda3/lib/python3.10/site-packages (1.3.2)\r\n"
     ]
    }
   ],
   "source": [
    "!pip install pika"
   ]
  },
  {
   "cell_type": "code",
   "execution_count": 2,
   "id": "9d640dd4",
   "metadata": {},
   "outputs": [],
   "source": [
    "import pika, sys, os, json"
   ]
  },
  {
   "cell_type": "code",
   "execution_count": 3,
   "id": "aa242bb1",
   "metadata": {},
   "outputs": [],
   "source": [
    "host_name = 'localhost'\n",
    "exchange_name = 'my_exchange'\n",
    "queue_name = 'DocuAurora-queue'\n",
    "message_routing_key = 'DocuAurora-api/RabittMQMessage'\n",
    "file_routing_key = 'DocuAurora-api/RabittMQFile'"
   ]
  },
  {
   "cell_type": "code",
   "execution_count": 10,
   "id": "44308d24",
   "metadata": {},
   "outputs": [],
   "source": [
    "def main():\n",
    "    connection = pika.BlockingConnection(pika.ConnectionParameters(host= host_name))\n",
    "    channel = connection.channel()\n",
    "    \n",
    "    channel.exchange_declare(exchange=exchange_name, exchange_type='direct')\n",
    "    channel.queue_declare(queue=queue_name)\n",
    "    channel.queue_bind(exchange=exchange_name, queue=queue_name, routing_key=file_routing_key)\n",
    "    channel.queue_bind(exchange=exchange_name, queue=queue_name, routing_key=message_routing_key)\n",
    "    def callback(ch, method, properties, body):\n",
    "        routing_key = method.routing_key\n",
    "\n",
    "        if routing_key == file_routing_key:\n",
    "            file_content = body.decode('utf-8')\n",
    "            print(f'File content: {file_content}')\n",
    "        elif routing_key == message_routing_key:\n",
    "            data = json.loads(body.decode())\n",
    "            command_name = data['CommandName']\n",
    "            input_question = data['Payload']['InputQuestion']\n",
    "            print(f'Hello Admin, we received your message => {data} commandName => {command_name} input_question => {input_question}')\n",
    "\n",
    "\n",
    "    channel.basic_consume(queue=queue_name, on_message_callback=callback, auto_ack=False)\n",
    "\n",
    "    print(' [*] Waiting for messages. To exit, press CTRL+C')\n",
    "    channel.start_consuming()"
   ]
  },
  {
   "cell_type": "code",
   "execution_count": 11,
   "id": "9a47de6b",
   "metadata": {},
   "outputs": [
    {
     "name": "stdout",
     "output_type": "stream",
     "text": [
      " [*] Waiting for messages. To exit, press CTRL+C\n",
      "Hello Admin, we received your message => {'CommandName': 'string', 'Payload': {'InputQuestion': 'string'}} commandName => string input_question => string\n",
      "Hello Admin, we received your message => {'CommandName': 'string', 'Payload': {'InputQuestion': 'string'}} commandName => string input_question => string\n",
      "Hello Admin, we received your message => {'CommandName': 'string', 'Payload': {'InputQuestion': 'string'}} commandName => string input_question => string\n",
      "Hello Admin, we received your message => {'CommandName': 'string', 'Payload': {'InputQuestion': 'string'}} commandName => string input_question => string\n",
      "Hello Admin, we received your message => {'CommandName': 'string', 'Payload': {'InputQuestion': 'string'}} commandName => string input_question => string\n",
      "Hello Admin, we received your message => {'CommandName': 'string', 'Payload': {'InputQuestion': 'string'}} commandName => string input_question => string\n",
      "Hello Admin, we received your message => {'CommandName': 'string', 'Payload': {'InputQuestion': 'string'}} commandName => string input_question => string\n",
      "Hello Admin, we received your message => {'CommandName': 'string', 'Payload': {'InputQuestion': 'string'}} commandName => string input_question => string\n"
     ]
    },
    {
     "ename": "UnicodeDecodeError",
     "evalue": "'utf-8' codec can't decode byte 0x91 in position 15: invalid start byte",
     "output_type": "error",
     "traceback": [
      "\u001b[0;31m---------------------------------------------------------------------------\u001b[0m",
      "\u001b[0;31mUnicodeDecodeError\u001b[0m                        Traceback (most recent call last)",
      "Cell \u001b[0;32mIn[11], line 3\u001b[0m\n\u001b[1;32m      1\u001b[0m \u001b[38;5;28;01mif\u001b[39;00m \u001b[38;5;18m__name__\u001b[39m \u001b[38;5;241m==\u001b[39m \u001b[38;5;124m'\u001b[39m\u001b[38;5;124m__main__\u001b[39m\u001b[38;5;124m'\u001b[39m:\n\u001b[1;32m      2\u001b[0m     \u001b[38;5;28;01mtry\u001b[39;00m:\n\u001b[0;32m----> 3\u001b[0m         \u001b[43mmain\u001b[49m\u001b[43m(\u001b[49m\u001b[43m)\u001b[49m\n\u001b[1;32m      4\u001b[0m     \u001b[38;5;28;01mexcept\u001b[39;00m \u001b[38;5;167;01mKeyboardInterrupt\u001b[39;00m:\n\u001b[1;32m      5\u001b[0m         \u001b[38;5;28mprint\u001b[39m(\u001b[38;5;124m'\u001b[39m\u001b[38;5;124mInterrupted\u001b[39m\u001b[38;5;124m'\u001b[39m)\n",
      "Cell \u001b[0;32mIn[10], line 25\u001b[0m, in \u001b[0;36mmain\u001b[0;34m()\u001b[0m\n\u001b[1;32m     22\u001b[0m channel\u001b[38;5;241m.\u001b[39mbasic_consume(queue\u001b[38;5;241m=\u001b[39mqueue_name, on_message_callback\u001b[38;5;241m=\u001b[39mcallback, auto_ack\u001b[38;5;241m=\u001b[39m\u001b[38;5;28;01mFalse\u001b[39;00m)\n\u001b[1;32m     24\u001b[0m \u001b[38;5;28mprint\u001b[39m(\u001b[38;5;124m'\u001b[39m\u001b[38;5;124m [*] Waiting for messages. To exit, press CTRL+C\u001b[39m\u001b[38;5;124m'\u001b[39m)\n\u001b[0;32m---> 25\u001b[0m \u001b[43mchannel\u001b[49m\u001b[38;5;241;43m.\u001b[39;49m\u001b[43mstart_consuming\u001b[49m\u001b[43m(\u001b[49m\u001b[43m)\u001b[49m\n",
      "File \u001b[0;32m~/anaconda3/lib/python3.10/site-packages/pika/adapters/blocking_connection.py:1883\u001b[0m, in \u001b[0;36mBlockingChannel.start_consuming\u001b[0;34m(self)\u001b[0m\n\u001b[1;32m   1880\u001b[0m \u001b[38;5;66;03m# Process events as long as consumers exist on this channel\u001b[39;00m\n\u001b[1;32m   1881\u001b[0m \u001b[38;5;28;01mwhile\u001b[39;00m \u001b[38;5;28mself\u001b[39m\u001b[38;5;241m.\u001b[39m_consumer_infos:\n\u001b[1;32m   1882\u001b[0m     \u001b[38;5;66;03m# This will raise ChannelClosed if channel is closed by broker\u001b[39;00m\n\u001b[0;32m-> 1883\u001b[0m     \u001b[38;5;28;43mself\u001b[39;49m\u001b[38;5;241;43m.\u001b[39;49m\u001b[43m_process_data_events\u001b[49m\u001b[43m(\u001b[49m\u001b[43mtime_limit\u001b[49m\u001b[38;5;241;43m=\u001b[39;49m\u001b[38;5;28;43;01mNone\u001b[39;49;00m\u001b[43m)\u001b[49m\n",
      "File \u001b[0;32m~/anaconda3/lib/python3.10/site-packages/pika/adapters/blocking_connection.py:2044\u001b[0m, in \u001b[0;36mBlockingChannel._process_data_events\u001b[0;34m(self, time_limit)\u001b[0m\n\u001b[1;32m   2025\u001b[0m \u001b[38;5;28;01mdef\u001b[39;00m \u001b[38;5;21m_process_data_events\u001b[39m(\u001b[38;5;28mself\u001b[39m, time_limit):\n\u001b[1;32m   2026\u001b[0m     \u001b[38;5;124;03m\"\"\"Wrapper for `BlockingConnection.process_data_events()` with common\u001b[39;00m\n\u001b[1;32m   2027\u001b[0m \u001b[38;5;124;03m    channel-specific logic that raises ChannelClosed if broker closed this\u001b[39;00m\n\u001b[1;32m   2028\u001b[0m \u001b[38;5;124;03m    channel.\u001b[39;00m\n\u001b[0;32m   (...)\u001b[0m\n\u001b[1;32m   2042\u001b[0m \n\u001b[1;32m   2043\u001b[0m \u001b[38;5;124;03m    \"\"\"\u001b[39;00m\n\u001b[0;32m-> 2044\u001b[0m     \u001b[38;5;28;43mself\u001b[39;49m\u001b[38;5;241;43m.\u001b[39;49m\u001b[43mconnection\u001b[49m\u001b[38;5;241;43m.\u001b[39;49m\u001b[43mprocess_data_events\u001b[49m\u001b[43m(\u001b[49m\u001b[43mtime_limit\u001b[49m\u001b[38;5;241;43m=\u001b[39;49m\u001b[43mtime_limit\u001b[49m\u001b[43m)\u001b[49m\n\u001b[1;32m   2045\u001b[0m     \u001b[38;5;28;01mif\u001b[39;00m \u001b[38;5;28mself\u001b[39m\u001b[38;5;241m.\u001b[39mis_closed \u001b[38;5;129;01mand\u001b[39;00m \u001b[38;5;28misinstance\u001b[39m(\u001b[38;5;28mself\u001b[39m\u001b[38;5;241m.\u001b[39m_closing_reason,\n\u001b[1;32m   2046\u001b[0m                                      exceptions\u001b[38;5;241m.\u001b[39mChannelClosedByBroker):\n\u001b[1;32m   2047\u001b[0m         LOGGER\u001b[38;5;241m.\u001b[39mdebug(\u001b[38;5;124m'\u001b[39m\u001b[38;5;124mChannel close by broker detected, raising \u001b[39m\u001b[38;5;132;01m%r\u001b[39;00m\u001b[38;5;124m; \u001b[39m\u001b[38;5;132;01m%r\u001b[39;00m\u001b[38;5;124m'\u001b[39m,\n\u001b[1;32m   2048\u001b[0m                      \u001b[38;5;28mself\u001b[39m\u001b[38;5;241m.\u001b[39m_closing_reason, \u001b[38;5;28mself\u001b[39m)\n",
      "File \u001b[0;32m~/anaconda3/lib/python3.10/site-packages/pika/adapters/blocking_connection.py:851\u001b[0m, in \u001b[0;36mBlockingConnection.process_data_events\u001b[0;34m(self, time_limit)\u001b[0m\n\u001b[1;32m    848\u001b[0m     \u001b[38;5;28mself\u001b[39m\u001b[38;5;241m.\u001b[39m_dispatch_connection_events()\n\u001b[1;32m    850\u001b[0m \u001b[38;5;28;01mif\u001b[39;00m \u001b[38;5;28mself\u001b[39m\u001b[38;5;241m.\u001b[39m_channels_pending_dispatch:\n\u001b[0;32m--> 851\u001b[0m     \u001b[38;5;28;43mself\u001b[39;49m\u001b[38;5;241;43m.\u001b[39;49m\u001b[43m_dispatch_channel_events\u001b[49m\u001b[43m(\u001b[49m\u001b[43m)\u001b[49m\n",
      "File \u001b[0;32m~/anaconda3/lib/python3.10/site-packages/pika/adapters/blocking_connection.py:567\u001b[0m, in \u001b[0;36mBlockingConnection._dispatch_channel_events\u001b[0;34m(self)\u001b[0m\n\u001b[1;32m    564\u001b[0m     \u001b[38;5;28;01mcontinue\u001b[39;00m\n\u001b[1;32m    566\u001b[0m \u001b[38;5;28;01mif\u001b[39;00m impl_channel\u001b[38;5;241m.\u001b[39mis_open:\n\u001b[0;32m--> 567\u001b[0m     \u001b[43mimpl_channel\u001b[49m\u001b[38;5;241;43m.\u001b[39;49m\u001b[43m_get_cookie\u001b[49m\u001b[43m(\u001b[49m\u001b[43m)\u001b[49m\u001b[38;5;241;43m.\u001b[39;49m\u001b[43m_dispatch_events\u001b[49m\u001b[43m(\u001b[49m\u001b[43m)\u001b[49m\n",
      "File \u001b[0;32m~/anaconda3/lib/python3.10/site-packages/pika/adapters/blocking_connection.py:1510\u001b[0m, in \u001b[0;36mBlockingChannel._dispatch_events\u001b[0;34m(self)\u001b[0m\n\u001b[1;32m   1508\u001b[0m \u001b[38;5;28;01mif\u001b[39;00m \u001b[38;5;28mtype\u001b[39m(evt) \u001b[38;5;129;01mis\u001b[39;00m _ConsumerDeliveryEvt:  \u001b[38;5;66;03m# pylint: disable=C0123\u001b[39;00m\n\u001b[1;32m   1509\u001b[0m     consumer_info \u001b[38;5;241m=\u001b[39m \u001b[38;5;28mself\u001b[39m\u001b[38;5;241m.\u001b[39m_consumer_infos[evt\u001b[38;5;241m.\u001b[39mmethod\u001b[38;5;241m.\u001b[39mconsumer_tag]\n\u001b[0;32m-> 1510\u001b[0m     \u001b[43mconsumer_info\u001b[49m\u001b[38;5;241;43m.\u001b[39;49m\u001b[43mon_message_callback\u001b[49m\u001b[43m(\u001b[49m\u001b[38;5;28;43mself\u001b[39;49m\u001b[43m,\u001b[49m\u001b[43m \u001b[49m\u001b[43mevt\u001b[49m\u001b[38;5;241;43m.\u001b[39;49m\u001b[43mmethod\u001b[49m\u001b[43m,\u001b[49m\n\u001b[1;32m   1511\u001b[0m \u001b[43m                                      \u001b[49m\u001b[43mevt\u001b[49m\u001b[38;5;241;43m.\u001b[39;49m\u001b[43mproperties\u001b[49m\u001b[43m,\u001b[49m\u001b[43m \u001b[49m\u001b[43mevt\u001b[49m\u001b[38;5;241;43m.\u001b[39;49m\u001b[43mbody\u001b[49m\u001b[43m)\u001b[49m\n\u001b[1;32m   1513\u001b[0m \u001b[38;5;28;01melif\u001b[39;00m \u001b[38;5;28mtype\u001b[39m(evt) \u001b[38;5;129;01mis\u001b[39;00m _ConsumerCancellationEvt:  \u001b[38;5;66;03m# pylint: disable=C0123\u001b[39;00m\n\u001b[1;32m   1514\u001b[0m     \u001b[38;5;28;01mdel\u001b[39;00m \u001b[38;5;28mself\u001b[39m\u001b[38;5;241m.\u001b[39m_consumer_infos[evt\u001b[38;5;241m.\u001b[39mmethod_frame\u001b[38;5;241m.\u001b[39mmethod\u001b[38;5;241m.\u001b[39mconsumer_tag]\n",
      "Cell \u001b[0;32mIn[10], line 13\u001b[0m, in \u001b[0;36mmain.<locals>.callback\u001b[0;34m(ch, method, properties, body)\u001b[0m\n\u001b[1;32m     10\u001b[0m routing_key \u001b[38;5;241m=\u001b[39m method\u001b[38;5;241m.\u001b[39mrouting_key\n\u001b[1;32m     12\u001b[0m \u001b[38;5;28;01mif\u001b[39;00m routing_key \u001b[38;5;241m==\u001b[39m file_routing_key:\n\u001b[0;32m---> 13\u001b[0m     file_content \u001b[38;5;241m=\u001b[39m \u001b[43mbody\u001b[49m\u001b[38;5;241;43m.\u001b[39;49m\u001b[43mdecode\u001b[49m\u001b[43m(\u001b[49m\u001b[38;5;124;43m'\u001b[39;49m\u001b[38;5;124;43mutf-8\u001b[39;49m\u001b[38;5;124;43m'\u001b[39;49m\u001b[43m)\u001b[49m\n\u001b[1;32m     14\u001b[0m     \u001b[38;5;28mprint\u001b[39m(\u001b[38;5;124mf\u001b[39m\u001b[38;5;124m'\u001b[39m\u001b[38;5;124mFile content: \u001b[39m\u001b[38;5;132;01m{\u001b[39;00mfile_content\u001b[38;5;132;01m}\u001b[39;00m\u001b[38;5;124m'\u001b[39m)\n\u001b[1;32m     15\u001b[0m \u001b[38;5;28;01melif\u001b[39;00m routing_key \u001b[38;5;241m==\u001b[39m message_routing_key:\n",
      "\u001b[0;31mUnicodeDecodeError\u001b[0m: 'utf-8' codec can't decode byte 0x91 in position 15: invalid start byte"
     ]
    }
   ],
   "source": [
    "if __name__ == '__main__':\n",
    "    try:\n",
    "        main()\n",
    "    except KeyboardInterrupt:\n",
    "        print('Interrupted')\n",
    "        try:\n",
    "            sys.exit(0)\n",
    "        except SystemExit:\n",
    "            os._exit(0)"
   ]
  },
  {
   "cell_type": "code",
   "execution_count": null,
   "id": "2256734f",
   "metadata": {},
   "outputs": [],
   "source": []
  }
 ],
 "metadata": {
  "kernelspec": {
   "display_name": "Python 3 (ipykernel)",
   "language": "python",
   "name": "python3"
  },
  "language_info": {
   "codemirror_mode": {
    "name": "ipython",
    "version": 3
   },
   "file_extension": ".py",
   "mimetype": "text/x-python",
   "name": "python",
   "nbconvert_exporter": "python",
   "pygments_lexer": "ipython3",
   "version": "3.10.9"
  }
 },
 "nbformat": 4,
 "nbformat_minor": 5
}
